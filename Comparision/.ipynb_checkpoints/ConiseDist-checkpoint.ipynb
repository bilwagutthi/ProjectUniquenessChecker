{
 "cells": [
  {
   "cell_type": "code",
   "execution_count": 1,
   "metadata": {},
   "outputs": [],
   "source": [
    "import pandas as pd\n",
    "\n",
    "\n",
    "file='MSRTainData.csv'\n",
    "file_path='C://Users//bilwa//code//ProjectUniquenessChecker//Comparision//MSRTrainData.csv'\n",
    "\n",
    "df=pd.read_csv(file_path)"
   ]
  },
  {
   "cell_type": "code",
   "execution_count": 2,
   "metadata": {},
   "outputs": [
    {
     "data": {
      "text/html": [
       "<div>\n",
       "<style scoped>\n",
       "    .dataframe tbody tr th:only-of-type {\n",
       "        vertical-align: middle;\n",
       "    }\n",
       "\n",
       "    .dataframe tbody tr th {\n",
       "        vertical-align: top;\n",
       "    }\n",
       "\n",
       "    .dataframe thead th {\n",
       "        text-align: right;\n",
       "    }\n",
       "</style>\n",
       "<table border=\"1\" class=\"dataframe\">\n",
       "  <thead>\n",
       "    <tr style=\"text-align: right;\">\n",
       "      <th></th>\n",
       "      <th>Unnamed: 0</th>\n",
       "      <th>Sentence1</th>\n",
       "      <th>Sentence2</th>\n",
       "      <th>Score</th>\n",
       "    </tr>\n",
       "  </thead>\n",
       "  <tbody>\n",
       "    <tr>\n",
       "      <th>0</th>\n",
       "      <td>0</td>\n",
       "      <td>The problem likely will mean corrective change...</td>\n",
       "      <td>He said the problem needs to be corrected befo...</td>\n",
       "      <td>0.88</td>\n",
       "    </tr>\n",
       "    <tr>\n",
       "      <th>1</th>\n",
       "      <td>1</td>\n",
       "      <td>The technology-laced Nasdaq Composite Index .I...</td>\n",
       "      <td>The broad Standard &amp; Poor's 500 Index .SPX inc...</td>\n",
       "      <td>0.16</td>\n",
       "    </tr>\n",
       "    <tr>\n",
       "      <th>2</th>\n",
       "      <td>2</td>\n",
       "      <td>It's a huge black eye, said publisher Arthur O...</td>\n",
       "      <td>It's a huge black eye, Arthur Sulzberger, the ...</td>\n",
       "      <td>0.72</td>\n",
       "    </tr>\n",
       "  </tbody>\n",
       "</table>\n",
       "</div>"
      ],
      "text/plain": [
       "   Unnamed: 0                                          Sentence1  \\\n",
       "0           0  The problem likely will mean corrective change...   \n",
       "1           1  The technology-laced Nasdaq Composite Index .I...   \n",
       "2           2  It's a huge black eye, said publisher Arthur O...   \n",
       "\n",
       "                                           Sentence2  Score  \n",
       "0  He said the problem needs to be corrected befo...   0.88  \n",
       "1  The broad Standard & Poor's 500 Index .SPX inc...   0.16  \n",
       "2  It's a huge black eye, Arthur Sulzberger, the ...   0.72  "
      ]
     },
     "execution_count": 2,
     "metadata": {},
     "output_type": "execute_result"
    }
   ],
   "source": [
    "df[:3]"
   ]
  },
  {
   "cell_type": "code",
   "execution_count": 3,
   "metadata": {},
   "outputs": [
    {
     "name": "stdout",
     "output_type": "stream",
     "text": [
      "The technology-laced Nasdaq Composite Index .IXIC inched down 1 point, or 0.11 percent, to 1,650. The broad Standard & Poor's 500 Index .SPX inched up 3 points, or 0.32 percent, to 970. 0.16\n"
     ]
    }
   ],
   "source": [
    "sent1=df['Sentence1'].tolist()\n",
    "sent2=df['Sentence2'].tolist()\n",
    "score=df['Score'].tolist()\n",
    "\n",
    "print(sent1[1],sent2[1],score[1])"
   ]
  },
  {
   "cell_type": "code",
   "execution_count": 4,
   "metadata": {},
   "outputs": [
    {
     "name": "stderr",
     "output_type": "stream",
     "text": [
      "unable to import 'smart_open.gcs', disabling that module\n"
     ]
    }
   ],
   "source": [
    "from gensim.parsing.preprocessing import remove_stopwords , preprocess_string"
   ]
  },
  {
   "cell_type": "code",
   "execution_count": 5,
   "metadata": {},
   "outputs": [],
   "source": [
    "def cosine_distence(left,right):\n",
    "    X_set=set(left)\n",
    "    Y_set=set(right)\n",
    "    l1=[]\n",
    "    l2=[]\n",
    "    rvector = X_set.union(Y_set)  \n",
    "    for w in rvector:\n",
    "        if w in X_set:l1.append(1)\n",
    "        else:l1.append(0) \n",
    "        if w in Y_set:l2.append(1) \n",
    "        else:l2.append(0) \n",
    "    c=0\n",
    "    for i in range(len(rvector)):\n",
    "        c+= l1[i]*l2[i]\n",
    "        cosine = c / float((sum(l1)*sum(l2))**0.5) \n",
    "        \n",
    "    return cosine"
   ]
  },
  {
   "cell_type": "code",
   "execution_count": 6,
   "metadata": {},
   "outputs": [
    {
     "name": "stdout",
     "output_type": "stream",
     "text": [
      "0.031135381445602163\n"
     ]
    }
   ],
   "source": [
    "error_sqr_sum=0\n",
    "for i in range(len(sent1)):\n",
    "    try:\n",
    "        left=preprocess_string( remove_stopwords(sent1[i]))\n",
    "        right=preprocess_string( remove_stopwords(sent2[i]))\n",
    "        predicted=cosine_distence(left,right)\n",
    "        error=score[i]-predicted\n",
    "        error_sqr_sum+=error*error\n",
    "    except:\n",
    "        continue\n",
    "\n",
    "mse=error_sqr_sum/len(sent1)    \n",
    "print(mse)"
   ]
  }
 ],
 "metadata": {
  "kernelspec": {
   "display_name": "Python 3",
   "language": "python",
   "name": "python3"
  },
  "language_info": {
   "codemirror_mode": {
    "name": "ipython",
    "version": 3
   },
   "file_extension": ".py",
   "mimetype": "text/x-python",
   "name": "python",
   "nbconvert_exporter": "python",
   "pygments_lexer": "ipython3",
   "version": "3.7.3"
  }
 },
 "nbformat": 4,
 "nbformat_minor": 2
}
