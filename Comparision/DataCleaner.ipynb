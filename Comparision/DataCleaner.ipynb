{
 "cells": [
  {
   "cell_type": "code",
   "execution_count": 1,
   "metadata": {},
   "outputs": [
    {
     "data": {
      "text/plain": [
       "'Notebook for cleaning and normalizing the data from the Raw data folder'"
      ]
     },
     "execution_count": 1,
     "metadata": {},
     "output_type": "execute_result"
    }
   ],
   "source": [
    "'Notebook for cleaning and normalizing the data from the Raw data folder'"
   ]
  },
  {
   "cell_type": "code",
   "execution_count": 2,
   "metadata": {},
   "outputs": [
    {
     "name": "stdout",
     "output_type": "stream",
     "text": [
      "Number of rows retrived: 741\n",
      "Number of rows retrived: 730\n"
     ]
    },
    {
     "name": "stderr",
     "output_type": "stream",
     "text": [
      "b'Skipping line 544: expected 3 fields, saw 4\\n'\n",
      "b'Skipping line 699: expected 3 fields, saw 4\\nSkipping line 703: expected 3 fields, saw 4\\n'\n"
     ]
    }
   ],
   "source": [
    "import pandas as pd\n",
    "\n",
    "path='.//RawData//'\n",
    "dsfile1='MSRpar.test.tsv'\n",
    "dsfile2='MSRpar.train.tsv'\n",
    "\n",
    "file_path1=path+dsfile1\n",
    "file_path2=path+dsfile2\n",
    "\n",
    "df1=pd.read_csv(file_path1,sep='\\t',error_bad_lines=False, header=None)\n",
    "print('Number of rows retrived:',len(df1.index))\n",
    "df2=pd.read_csv(file_path2,sep='\\t',error_bad_lines=False, header=None)\n",
    "print('Number of rows retrived:',len(df2.index))"
   ]
  },
  {
   "cell_type": "code",
   "execution_count": 3,
   "metadata": {},
   "outputs": [],
   "source": [
    "df1Score=df1[0].tolist()\n",
    "df1Sent1=df1[1].tolist()\n",
    "df1Sent2=df1[2].tolist()\n",
    "df2Score=df2[0].tolist()\n",
    "df2Sent1=df2[1].tolist()\n",
    "df2Sent2=df2[2].tolist()"
   ]
  },
  {
   "cell_type": "code",
   "execution_count": 4,
   "metadata": {},
   "outputs": [],
   "source": [
    "NormScore1=[]\n",
    "for i in df1Score:\n",
    "    norm=i/5\n",
    "    NormScore1.append(norm)"
   ]
  },
  {
   "cell_type": "code",
   "execution_count": 5,
   "metadata": {},
   "outputs": [],
   "source": [
    "NormScore2=[]\n",
    "for i in df2Score:\n",
    "    norm=i/5\n",
    "    NormScore2.append(norm)"
   ]
  },
  {
   "cell_type": "code",
   "execution_count": 6,
   "metadata": {},
   "outputs": [],
   "source": [
    "Sentence1=df1Sent1+df2Sent1\n",
    "Sentence2=df1Sent2+df2Sent2\n",
    "Score=NormScore1+NormScore2"
   ]
  },
  {
   "cell_type": "code",
   "execution_count": 7,
   "metadata": {},
   "outputs": [],
   "source": [
    "Dir1={'Sentence1':Sentence1,\n",
    "'Sentence2':Sentence2,\n",
    "'Score':Score}\n",
    "\n",
    "df=pd.DataFrame(Dir1)"
   ]
  },
  {
   "cell_type": "code",
   "execution_count": 8,
   "metadata": {},
   "outputs": [
    {
     "name": "stdout",
     "output_type": "stream",
     "text": [
      "1471 741 730\n"
     ]
    }
   ],
   "source": [
    "print(len(df.index),\n",
    "len(df1.index),\n",
    "len(df2.index))"
   ]
  },
  {
   "cell_type": "code",
   "execution_count": 9,
   "metadata": {},
   "outputs": [],
   "source": [
    "df.to_csv('MSRTrainData.csv')"
   ]
  }
 ],
 "metadata": {
  "kernelspec": {
   "display_name": "Python 3",
   "language": "python",
   "name": "python3"
  },
  "language_info": {
   "codemirror_mode": {
    "name": "ipython",
    "version": 3
   },
   "file_extension": ".py",
   "mimetype": "text/x-python",
   "name": "python",
   "nbconvert_exporter": "python",
   "pygments_lexer": "ipython3",
   "version": "3.7.3"
  }
 },
 "nbformat": 4,
 "nbformat_minor": 2
}
